{
 "cells": [
  {
   "cell_type": "code",
   "execution_count": 30,
   "metadata": {},
   "outputs": [
    {
     "name": "stdout",
     "output_type": "stream",
     "text": [
      "Good Morning!\n",
      "Hello world!\n",
      "Good Morning!\n",
      "This is a Class Object.\n"
     ]
    }
   ],
   "source": [
    "class MyClass(object):\n",
    "    # 成员变量\n",
    "    message = \"Hello, Developer.\"\n",
    "    def __str__(self):\n",
    "        return \"This is a Class Object.\"\n",
    "    \n",
    "    def show(self):\n",
    "        print(self.message)\n",
    "\n",
    "MyClass.message = \"Good Morning!\"  # 直接访问成员变量\n",
    "inst = MyClass() # 新建对象inst\n",
    "inst.show()      # 调用成员方法\n",
    "inst.message = \"Hello world!\"\n",
    "\n",
    "print(inst.message)\n",
    "print(MyClass.message)\n",
    "\n",
    "print(inst)"
   ]
  },
  {
   "cell_type": "code",
   "execution_count": 31,
   "metadata": {},
   "outputs": [
    {
     "name": "stdout",
     "output_type": "stream",
     "text": [
      "input name:we\n",
      "input age:23\n",
      "we\n",
      "23\n",
      "销毁对象 we 23\n"
     ]
    }
   ],
   "source": [
    "# 创建类\n",
    "class Person:\n",
    "    # 定义构造方法\n",
    "    def __init__(self,Name,Age):\n",
    "        self.name = Name\n",
    "        self.age = Age\n",
    "    # 定义main方法    \n",
    "    def main(self):\n",
    "        print(self.name)\n",
    "        print(self.age)\n",
    "    # 定义析构方法\n",
    "    def __del__(self):\n",
    "        print('销毁对象',self.name,self.age)\n",
    "name = input('input name:')\n",
    "age = input('input age:')\n",
    "# 创建类的实例、对象\n",
    "p = Person(name,age)\n",
    "p.main() #调用类体中的方法\n",
    "del p"
   ]
  },
  {
   "cell_type": "code",
   "execution_count": null,
   "metadata": {},
   "outputs": [],
   "source": [
    "# 类的继承，支持多继承\n",
    "# 创建类\n",
    "class Person:\n",
    "    def __init__(self,Name,Age):    # 定义构造方法\n",
    "        self.name = Name\n",
    "        self.age = Age\n",
    "    def main(self):    # 定义main方法    \n",
    "        print(self.name)\n",
    "        print(self.age)\n",
    "# 创建子类\n",
    "class Sunny(Person):\n",
    "    def __init__(self,name,age,score):\n",
    "#         super(Sunny,self).__init__(name,age)    # 调用父类的构造方法\n",
    "        Person.__init__(self,name,age)    # 调用父类的构造方法，super()也可以实现\n",
    "        self.score = score     # 定义子类的属性\n",
    "    def prn(self):\n",
    "#         Person.main(self)      # 调用父类的main方法，也可以换成后面两行\n",
    "        print(self.name)      # 调用父类的定义\n",
    "        print(self.age)       # 调用父类的定义\n",
    "        print('成绩',self.score)\n",
    "name = input('input name:')\n",
    "age = input('input age:')\n",
    "score = input('input score:')\n",
    "# 创建类的实例、对象\n",
    "s = Sunny(name,age,score)\n",
    "s.prn() #调用子类中的方法"
   ]
  },
  {
   "cell_type": "code",
   "execution_count": null,
   "metadata": {},
   "outputs": [],
   "source": [
    "class Cat:\n",
    "    def __init__(self, new_name, new_age):\n",
    "        self.name = new_name\n",
    "        self.age = new_age\n",
    "    def __str__(self):\n",
    "        return \"%s的年龄是:%d\"%(self.name, self.age)\n",
    "    def __sub__(self,other):\n",
    "        return Cat(self.name + '-' + other.name,self.age - other.age)\n",
    "    def __add__(self,other):\n",
    "        return Cat(self.name + '+' + other.name,self.age + other.age)\n",
    "\n",
    "tom = Cat(\"汤姆\", 40)\n",
    "lanmao = Cat(\"蓝猫\", 10)\n",
    "print(tom)\n",
    "print(lanmao)\n",
    "print(tom - lanmao)\n",
    "print(tom + lanmao)"
   ]
  }
 ],
 "metadata": {
  "kernelspec": {
   "display_name": "Python 3",
   "language": "python",
   "name": "python3"
  },
  "language_info": {
   "codemirror_mode": {
    "name": "ipython",
    "version": 3
   },
   "file_extension": ".py",
   "mimetype": "text/x-python",
   "name": "python",
   "nbconvert_exporter": "python",
   "pygments_lexer": "ipython3",
   "version": "3.8.1"
  }
 },
 "nbformat": 4,
 "nbformat_minor": 4
}
