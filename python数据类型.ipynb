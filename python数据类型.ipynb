{
 "cells": [
  {
   "cell_type": "code",
   "execution_count": 14,
   "metadata": {},
   "outputs": [
    {
     "name": "stdout",
     "output_type": "stream",
     "text": [
      "3\n",
      "(1+2j)\n",
      "[1, 2, 3, 4]\n",
      "2\n",
      "abcde123456\n",
      "ABCDE123456\n",
      "['ab', 'cd', 'ed', '123', 'gf']\n",
      "\n",
      "This is a string example, wow!!!\n"
     ]
    }
   ],
   "source": [
    "print(str(1+2))\n",
    "print(1+2j)    # 复数\n",
    "print(str([1,2,3,4]))\n",
    "\n",
    "s = \"ABcde123456\"\n",
    "print(s.find('cd'))\n",
    "print(s.lower())\n",
    "print(s.upper())\n",
    "\n",
    "s1='ab,cd,ed,123,gf'\n",
    "print(s1.split(sep=','))      # 转换成了列表\n",
    "\n",
    "s2='****This is a string example, wow!!!****'\n",
    "print('\\n'+s2.strip('*'))\n"
   ]
  }
 ],
 "metadata": {
  "kernelspec": {
   "display_name": "Python 3",
   "language": "python",
   "name": "python3"
  },
  "language_info": {
   "codemirror_mode": {
    "name": "ipython",
    "version": 3
   },
   "file_extension": ".py",
   "mimetype": "text/x-python",
   "name": "python",
   "nbconvert_exporter": "python",
   "pygments_lexer": "ipython3",
   "version": "3.8.1"
  }
 },
 "nbformat": 4,
 "nbformat_minor": 4
}
