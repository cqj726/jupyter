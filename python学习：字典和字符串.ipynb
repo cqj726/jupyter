{
 "cells": [
  {
   "cell_type": "markdown",
   "metadata": {},
   "source": [
    "#### python学习：字典和字符串"
   ]
  },
  {
   "cell_type": "code",
   "execution_count": 4,
   "metadata": {},
   "outputs": [
    {
     "name": "stdout",
     "output_type": "stream",
     "text": [
      "dict_items([('color', 'red'), ('age', 21)])\n",
      "dict_keys(['color', 'age'])\r",
      "dict_values(['red', 21])\n",
      "\n",
      "('color', 'red')\n",
      "('age', 21)\n"
     ]
    }
   ],
   "source": [
    "# items代表字典中的所有数据\n",
    "# keys代表字典中的所有键\n",
    "# values代表字典中的所有键的值\n",
    "\n",
    "spam = {\"color\":\"red\",'age':21}\n",
    "print(spam.items())\n",
    "print(spam.keys(),end='\\r')  # /r为回车\n",
    "print(spam.values(),end='\\n\\n')  # /n为换行\n",
    "\n",
    "for v in spam.items():\n",
    "       print(v)"
   ]
  },
  {
   "cell_type": "code",
   "execution_count": 5,
   "metadata": {},
   "outputs": [
    {
     "name": "stdout",
     "output_type": "stream",
     "text": [
      "['color', 'red']\n",
      "['age', 21]\n"
     ]
    }
   ],
   "source": [
    "import pprint\n",
    "spam = {\"color\":\"red\",'age':21}\n",
    "for v in spam.items():\n",
    "    pprint.pprint(list(v))"
   ]
  },
  {
   "cell_type": "code",
   "execution_count": 6,
   "metadata": {},
   "outputs": [
    {
     "name": "stdout",
     "output_type": "stream",
     "text": [
      "color  is  red\n",
      "age  is  21\n"
     ]
    }
   ],
   "source": [
    "spam = {\"color\":\"red\",'age':21}\n",
    "for k,v in spam.items():\n",
    "    print(k ,' is ',v)"
   ]
  },
  {
   "cell_type": "code",
   "execution_count": 7,
   "metadata": {},
   "outputs": [
    {
     "name": "stdout",
     "output_type": "stream",
     "text": [
      "3\n",
      "{'color': 'red', 'age': 21}\n"
     ]
    }
   ],
   "source": [
    "# 利用get()可以获取某个关键字的值；如果不存在该值，则取后面的缺省值\n",
    "spam = {\"color\":\"red\",'age':21}\n",
    "print(spam.get('age1', 3))    # 无age1键，不会出错，因为有缺省值 3\n",
    "# print(spam['age1'])         # 无age1键，会出错\n",
    "print(spam)"
   ]
  },
  {
   "cell_type": "code",
   "execution_count": 8,
   "metadata": {},
   "outputs": [
    {
     "name": "stdout",
     "output_type": "stream",
     "text": [
      "1sdfsdf       \n",
      "\taaa\n",
      "1sdfsdf      \\n\\taaa\n",
      "1sdfsdf      \n",
      "    \n",
      "\taaa\n"
     ]
    },
    {
     "data": {
      "text/plain": [
       "'三重双引号表明是多行注释\\n'"
      ]
     },
     "execution_count": 8,
     "metadata": {},
     "output_type": "execute_result"
    }
   ],
   "source": [
    "# 当print中的字符串以r引导，则原样输出字符串，而忽略转义字符；\n",
    "print(\"1sdfsdf       \\n\\taaa\")   # /t为制表符\n",
    "print(r\"1sdfsdf      \\n\\taaa\")   # 只能是单行\n",
    "\n",
    "# 要打印多行字符串，需要将字符串用三重引号引起来\n",
    "print(\"\"\"1sdfsdf      \n",
    "    \\n\\taaa\"\"\")       # 单引号也行\n",
    "\n",
    "\"\"\"三重双引号表明是多行注释\n",
    "\"\"\""
   ]
  },
  {
   "cell_type": "code",
   "execution_count": 9,
   "metadata": {},
   "outputs": [
    {
     "name": "stdout",
     "output_type": "stream",
     "text": [
      "Enter your age:\n",
      "21\n",
      "Select a new password(letters and numbers only):\n",
      "qwe\n"
     ]
    }
   ],
   "source": [
    "# 测试字符串的构成\n",
    "while True: \n",
    "    print(\"Enter your age:\")\n",
    "    age = input()\n",
    "    if age.isdecimal():\n",
    "        break\n",
    "    print('Please enter a number for your age.')\n",
    "\n",
    "while True:\n",
    "    print('Select a new password(letters and numbers only):')\n",
    "    password=input()\n",
    "    if password.isalnum():\n",
    "        break\n",
    "    print('Passwords can only have letters and numbers.')"
   ]
  },
  {
   "cell_type": "code",
   "execution_count": 23,
   "metadata": {},
   "outputs": [
    {
     "name": "stdout",
     "output_type": "stream",
     "text": [
      "apple, book, car\n",
      "apple\n",
      "book\n",
      "car\n"
     ]
    }
   ],
   "source": [
    "aa = ', '\n",
    "aaa = '\\n'\n",
    "bb = ['apple','book','car']\n",
    "print(aa.join(bb))      # 在bb的字符串元素中间加上一个逗号。\n",
    "print(aaa.join(bb))      # 在bb的字符串元素中间加上一个换行符。"
   ]
  },
  {
   "cell_type": "code",
   "execution_count": 24,
   "metadata": {},
   "outputs": [
    {
     "name": "stdout",
     "output_type": "stream",
     "text": [
      "True\n",
      "True\n",
      "['This', 'is', 'a', 'book.']\n",
      "***************This is a book.\n",
      "This is a book.***************\n",
      "*******This is a book.********\n",
      "This is a book.\n",
      "This is a book.    \n",
      "This is a book.\n",
      " is a book.    \n"
     ]
    }
   ],
   "source": [
    "aa = 'This is a book.'\n",
    "\n",
    "print(aa.startswith('This'))   # 判断是否以 This 开头\n",
    "print(aa.endswith('book.'))    # 判断是否以 book. 结尾\n",
    "\n",
    "print(aa.split())\n",
    "print(aa.rjust(30,'*'))    # 保证总长为30，且右对齐，前面补 *\n",
    "print(aa.ljust(30,'*'))    # 保证总长为30，且左对齐，后面补 *\n",
    "print(aa.center(30,'*'))   # 保证总长为30，且居中对齐，前后补 *\n",
    "\n",
    "aa = 'This is a book.    '\n",
    "print(aa.rstrip())    \n",
    "print(aa.lstrip())    \n",
    "print(aa.strip())    \n",
    "print(aa.strip('This'))    "
   ]
  },
  {
   "cell_type": "code",
   "execution_count": 21,
   "metadata": {},
   "outputs": [
    {
     "data": {
      "text/plain": [
       "'Hello, Python!'"
      ]
     },
     "execution_count": 21,
     "metadata": {},
     "output_type": "execute_result"
    }
   ],
   "source": [
    "import pyperclip\n",
    "pyperclip.copy('Hello, Python!')\n",
    "pyperclip.paste()"
   ]
  }
 ],
 "metadata": {
  "kernelspec": {
   "display_name": "Python 3",
   "language": "python",
   "name": "python3"
  },
  "language_info": {
   "codemirror_mode": {
    "name": "ipython",
    "version": 3
   },
   "file_extension": ".py",
   "mimetype": "text/x-python",
   "name": "python",
   "nbconvert_exporter": "python",
   "pygments_lexer": "ipython3",
   "version": "3.7.0"
  }
 },
 "nbformat": 4,
 "nbformat_minor": 4
}
