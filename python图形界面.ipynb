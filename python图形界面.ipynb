{
 "cells": [
  {
   "cell_type": "code",
   "execution_count": 51,
   "metadata": {},
   "outputs": [],
   "source": [
    "# tkinter为python自带的标准图形用户界面\n",
    "import tkinter\n",
    "\n",
    "def mclick():\n",
    "    label1 = tkinter.Label(win,text='少壮不努力，老大徒伤悲！')\n",
    "    label1.pack()\n",
    "    \n",
    "#定义一个窗体\n",
    "win = tkinter.Tk()    \n",
    "\n",
    "#设置窗体的属性\n",
    "win.title('简单窗体') \n",
    "win.geometry('250x120+50+10')     # 长x宽+x坐标+y坐标\n",
    "label = tkinter.Label(win,text='欢迎进入python图形界面！',font='宋体',fg='#0000ff',bg='yellow')\n",
    "\n",
    "# a = tkinter.Label(win,text='a！',font='宋体',fg='#0000ff',bg='red')\n",
    "# b = tkinter.Label(win,text='b！',font='宋体',fg='#0000ff',bg='green')\n",
    "# c = tkinter.Label(win,text='c！',font='宋体',fg='#000000',bg='blue')\n",
    "d = tkinter.Label(win,text='d！',font='宋体',fg='#0000ff',bg='red')\n",
    "e = tkinter.Label(win,text='e！',font='宋体',fg='#0000ff',bg='green')\n",
    "f = tkinter.Label(win,text='f！',font='宋体',fg='#000000',bg='blue')\n",
    "\n",
    "btn = tkinter.Button(win,text='确定',command=mclick)  #调用mclick()函数之前，先要定义\n",
    "\n",
    "# label.pack()   #启动pack容器布局\n",
    "btn.place(x=30,y=50)   #启动place绝对定位布局\n",
    "# a.pack(fill='y',side='left')\n",
    "# b.pack(fill='x',side='right')\n",
    "# c.pack(fill='both',side='right')\n",
    "d.grid(row=0,column=1)\n",
    "e.grid(row=1,column=1)\n",
    "f.grid(row=2)\n",
    "# 如果已经用pack()布局，则不能使用grid()布局，但可以使用place()布局\n",
    "\n",
    "win.mainloop()\n"
   ]
  }
 ],
 "metadata": {
  "kernelspec": {
   "display_name": "Python 3",
   "language": "python",
   "name": "python3"
  },
  "language_info": {
   "codemirror_mode": {
    "name": "ipython",
    "version": 3
   },
   "file_extension": ".py",
   "mimetype": "text/x-python",
   "name": "python",
   "nbconvert_exporter": "python",
   "pygments_lexer": "ipython3",
   "version": "3.8.1"
  }
 },
 "nbformat": 4,
 "nbformat_minor": 4
}
