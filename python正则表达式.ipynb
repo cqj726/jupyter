{
 "cells": [
  {
   "cell_type": "code",
   "execution_count": 90,
   "metadata": {},
   "outputs": [
    {
     "name": "stdout",
     "output_type": "stream",
     "text": [
      "[('123', '456-7890'), ('098', '765-4321')]\n",
      "电话号码：123-456-7890 。其中区号为：123 电话号码为：456-7890\n",
      "手机号码：13477090871\n"
     ]
    }
   ],
   "source": [
    "# 1、导入正则表达式模块re\n",
    "import re\n",
    "\n",
    "# 2、生成Regex对象：调用re中的complie方法，将正则表达式作为参数传入，编译成regex对象pn；\n",
    "pn = re.compile(r'(\\d\\d\\d)-(\\d\\d\\d-\\d\\d\\d\\d)')   #用()可以进行分组\n",
    "pn1 = re.compile(r'1[3|5|7|8]\\d{9}')\n",
    "# 利用regex对象的sub()，可以替换掉匹配的内容，返回字符串类型；\n",
    "abc = pn.sub(\"***-***-****\",'我的电话号码是：123-456-7890 or 098-765-4321')\n",
    "\n",
    "# 3、生成Match对象：调用pn的search方法去查找匹配的字符串，放到Match对象mo中；\n",
    "mo = pn.search('我的电话号码是：123-456-7890 or 098-765-4321')   # 只能获取第一个\n",
    "movalue = pn.findall('我的电话号码是：123-456-7890 or 098-765-4321') #直接获取所有匹配的值为字符串\n",
    "\n",
    "mo1 = pn1.search('我的手机号码是：13477090871')   # 只能获取第一个\n",
    "\n",
    "# 4、显示找到的匹配字符串：调用匹配对象mo的group方法，获取匹配的字符串；\n",
    "print(movalue)\n",
    "if mo:\n",
    "    print('电话号码：' + mo.group(), '。其中区号为：'+mo.group(1),'电话号码为：' + mo.group(2))\n",
    "    \n",
    "if mo1:\n",
    "    print('手机号码：' + mo1.group())\n",
    "# mo.group()或mo.group(0)表示整个匹配的字符串，mo.group(1)和mo.group(2)表示各分组的结果；"
   ]
  },
  {
   "cell_type": "markdown",
   "metadata": {},
   "source": [
    "| 正则字符 | 功能介绍 |\n",
    "| -----| ----------|\n",
    "|  **?** |  0/1 ，前面的分组有或无； |  |\n",
    "|  **`a \\| b`** | 要么有a，要么有b； | \n",
    "| ***** |    前面分组可出现任意多次； | \n",
    "| **+** |    ≥1 前面分组至少出现一次； | \n",
    "| **{ n }**|    前面分组重复n次； | \n",
    "| **{ x, y }**|    前面分组出现[x,y]次;（尽量多，y次，贪心，默认）\n",
    "| **{ x, y } ?**|    前面分组出现[x,y]次;（尽量少，x次，非贪心）\n",
    "| **[ ... ]**|    枚举； | \n",
    "| **[ ^... ]**|    枚举之外； | \n",
    "| **^...**|    开头就匹配； | \n",
    "| **...$**|    在尾部匹配； | \n",
    "| **. **|    匹配一个任意字符； （除换行符以外）\n",
    "| **. ***|    匹配任意多个字符；  （除换行符以外）\n",
    "| **. *，同时编译第二参数为 re.DOTALL ** |    匹配任意多个字符； （包括换行符）\n",
    "| **编译第二参数为 re.I ** |    忽略大小写； | \n",
    "| **\\d**|    0-9 数字； |  \n",
    "| **\\D**|    非数字； | \n",
    "| **\\w**|    字母、数字、下划线； | \n",
    "| **\\W**|    除字母、数字、下划线之外的字符； | \n",
    "| **\\s**|    空格、制表符、换行； | \n",
    "| **\\S**|    除空格、制表符、换行之外的字符； | "
   ]
  },
  {
   "cell_type": "code",
   "execution_count": 10,
   "metadata": {
    "scrolled": true
   },
   "outputs": [
    {
     "data": {
      "text/plain": [
       "re.compile(r'(\\n    (\\d{3}|\\(\\d{3}\\))? # area code\\n    (\\s|-|\\.)?         # separator\\n    (\\d{3})            # first 3 digits\\n    (\\s|-1\\.)          # separator\\n    (\\d{4})            # last 4 digits\\n    (\\s*(ext|x|ext\\.)\\s*(\\d{2,5}))?             #extension\\n    )',\n",
       "re.UNICODE|re.VERBOSE)"
      ]
     },
     "execution_count": 10,
     "metadata": {},
     "output_type": "execute_result"
    }
   ],
   "source": [
    "import pyperclip,re\n",
    "phoneRegex = re.compile(r'''(\n",
    "    (\\d{3}|\\(\\d{3}\\))? # area code\n",
    "    (\\s|-|\\.)?         # separator\n",
    "    (\\d{3})            # first 3 digits\n",
    "    (\\s|-1\\.)          # separator\n",
    "    (\\d{4})            # last 4 digits\n",
    "    (\\s*(ext|x|ext\\.)\\s*(\\d{2,5}))?             #extension\n",
    "    )''',re.VERBOSE)"
   ]
  },
  {
   "cell_type": "code",
   "execution_count": 29,
   "metadata": {},
   "outputs": [
    {
     "data": {
      "text/plain": [
       "re.compile(r'(\\n    [a-zA-Z0-9._%+-]+    # username\\n    @                    # @ symbol\\n    [a-zA-Z0-9.-]+       # domain name\\n    (\\.[a-zA-Z]{2,4})    # dot-something\\n    )',\n",
       "re.UNICODE|re.VERBOSE)"
      ]
     },
     "execution_count": 29,
     "metadata": {},
     "output_type": "execute_result"
    }
   ],
   "source": [
    "import pyperclip,re\n",
    "\n",
    "# Create email regex.\n",
    "emailRegex = re.compile(r'''(\n",
    "    [a-zA-Z0-9._%+-]+    # username\n",
    "    @                    # @ symbol\n",
    "    [a-zA-Z0-9.-]+       # domain name\n",
    "    (\\.[a-zA-Z]{2,4})    # dot-something\n",
    "    )''',re.VERBOSE)\n",
    "emailRegex"
   ]
  },
  {
   "cell_type": "code",
   "execution_count": 88,
   "metadata": {},
   "outputs": [
    {
     "name": "stdout",
     "output_type": "stream",
     "text": [
      "[['13477090871', '15807148839'], 'czy57@163.com']\n"
     ]
    }
   ],
   "source": [
    "import pyperclip,re\n",
    "\n",
    "phoneRegex = re.compile(r'(1[3|5|7|8]\\d{9})')\n",
    "emailRegex = re.compile(r'([a-zA-Z0-9._%+-]+@[a-zA-Z0-9.-]+(\\.[a-zA-Z]{2,4}))',re.VERBOSE)\n",
    "\n",
    "text = str(pyperclip.paste())\n",
    "# text = 13477090871 15807148839 czy57@163.com\n",
    "matches = []\n",
    "\n",
    "phoneNum = phoneRegex.findall(text) \n",
    "matches.append(phoneNum)\n",
    "\n",
    "for groups in emailRegex.findall(text):\n",
    "    matches.append(groups[0])\n",
    "    \n",
    "print(matches)\n"
   ]
  }
 ],
 "metadata": {
  "kernelspec": {
   "display_name": "Python 3",
   "language": "python",
   "name": "python3"
  },
  "language_info": {
   "codemirror_mode": {
    "name": "ipython",
    "version": 3
   },
   "file_extension": ".py",
   "mimetype": "text/x-python",
   "name": "python",
   "nbconvert_exporter": "python",
   "pygments_lexer": "ipython3",
   "version": "3.7.0"
  }
 },
 "nbformat": 4,
 "nbformat_minor": 4
}
