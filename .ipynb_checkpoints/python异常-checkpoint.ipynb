{
 "cells": [
  {
   "cell_type": "code",
   "execution_count": 9,
   "metadata": {},
   "outputs": [
    {
     "name": "stdout",
     "output_type": "stream",
     "text": [
      "6\n",
      "This is never been called\n",
      "No exception happened!\n",
      "Process finished!\n"
     ]
    }
   ],
   "source": [
    "# try...(except 1..n)...else...finally...结构\n",
    "# try后代码尝试执行的代码，中间可能有错误\n",
    "# except后代码为异常发生时，分类处理的代码；可以有多个except的情况\n",
    "# else后代码为未发生异常时的代码\n",
    "# finally后代码为必然运行的代码\n",
    "\n",
    "try:\n",
    "    myList = [4, 6]\n",
    "    print(myList[1])\n",
    "    print(\"This is never been called\")\n",
    "except ZeroDivisionError as e:\n",
    "    print(\"ZeroDivisionError happened\")\n",
    "    print(e)\n",
    "except (IndexError, EOFError) as e:\n",
    "    print(\"Exception happened\")\n",
    "    print(e)\n",
    "except:\n",
    "    print(\"Unknown exception happened\")\n",
    "else:\n",
    "    print(\"No exception happened!\")\n",
    "finally:\n",
    "    print(\"Process finished!\")\n",
    "    "
   ]
  },
  {
   "cell_type": "code",
   "execution_count": 18,
   "metadata": {},
   "outputs": [],
   "source": [
    "import sys\n",
    "class MyErr(Exception):\n",
    "    def __str__(self):\n",
    "        return \"I'm a self-defined Error!\"\n",
    "def main():\n",
    "    try:\n",
    "        if len(sys.argv)==1:\n",
    "            raise MyErr()\n",
    "    except MyErr as e:\n",
    "        print(e)\n",
    "        \n",
    "main()"
   ]
  },
  {
   "cell_type": "code",
   "execution_count": null,
   "metadata": {},
   "outputs": [],
   "source": []
  }
 ],
 "metadata": {
  "kernelspec": {
   "display_name": "Python 3",
   "language": "python",
   "name": "python3"
  },
  "language_info": {
   "codemirror_mode": {
    "name": "ipython",
    "version": 3
   },
   "file_extension": ".py",
   "mimetype": "text/x-python",
   "name": "python",
   "nbconvert_exporter": "python",
   "pygments_lexer": "ipython3",
   "version": "3.8.1"
  }
 },
 "nbformat": 4,
 "nbformat_minor": 4
}
