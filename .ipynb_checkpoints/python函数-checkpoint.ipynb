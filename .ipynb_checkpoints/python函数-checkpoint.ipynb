{
 "cells": [
  {
   "cell_type": "code",
   "execution_count": 2,
   "metadata": {},
   "outputs": [
    {
     "name": "stdout",
     "output_type": "stream",
     "text": [
      "局部变量x= 30\n",
      "全局变量x= 10\n"
     ]
    }
   ],
   "source": [
    "global x\n",
    "x= 10\n",
    "def fun():\n",
    "    x =30\n",
    "    print('局部变量x=',x)\n",
    "\n",
    "fun()\n",
    "print('全局变量x=',x)"
   ]
  },
  {
   "cell_type": "code",
   "execution_count": 17,
   "metadata": {},
   "outputs": [
    {
     "name": "stdout",
     "output_type": "stream",
     "text": [
      "9 5.0\n"
     ]
    }
   ],
   "source": [
    "import math\n",
    "x = max([3,8,5,9,1])\n",
    "y = math.sqrt(25)\n",
    "print(x,y)"
   ]
  },
  {
   "cell_type": "code",
   "execution_count": 3,
   "metadata": {},
   "outputs": [
    {
     "name": "stdout",
     "output_type": "stream",
     "text": [
      "24\n"
     ]
    }
   ],
   "source": [
    "# 匿名函数：用lambda来定义匿名函数\n",
    "f = lambda x,y,z: x*y*z\n",
    "print(f(2,3,4))"
   ]
  },
  {
   "cell_type": "code",
   "execution_count": 9,
   "metadata": {},
   "outputs": [
    {
     "name": "stdout",
     "output_type": "stream",
     "text": [
      "Hello ,  python!\n",
      "Hello ,  world!\n"
     ]
    }
   ],
   "source": [
    "# 变长参数：个数、类型不定\n",
    "# 元组前缀：*；字典前缀：**；\n",
    "def show_msg(message,*ppp):\n",
    "    for name in ppp:\n",
    "        print(message,\", \",name)\n",
    "\n",
    "if __name__ == '__main__':\n",
    "# __name__ 是当前模块名。\n",
    "# __main__ 是运行时的模块名。\n",
    "# 这句话的意思就是，当模块被直接运行时，代码块将被运行，当模块是被导入（import）时，代码块不被运行。\n",
    "    show_msg(\"Hello\",'python!','world!')"
   ]
  },
  {
   "cell_type": "code",
   "execution_count": null,
   "metadata": {},
   "outputs": [],
   "source": []
  }
 ],
 "metadata": {
  "kernelspec": {
   "display_name": "Python 3",
   "language": "python",
   "name": "python3"
  },
  "language_info": {
   "codemirror_mode": {
    "name": "ipython",
    "version": 3
   },
   "file_extension": ".py",
   "mimetype": "text/x-python",
   "name": "python",
   "nbconvert_exporter": "python",
   "pygments_lexer": "ipython3",
   "version": "3.8.1"
  }
 },
 "nbformat": 4,
 "nbformat_minor": 4
}
