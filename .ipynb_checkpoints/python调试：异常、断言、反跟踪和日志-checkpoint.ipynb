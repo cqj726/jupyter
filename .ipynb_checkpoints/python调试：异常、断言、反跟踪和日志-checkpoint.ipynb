{
 "cells": [
  {
   "cell_type": "code",
   "execution_count": 13,
   "metadata": {},
   "outputs": [
    {
     "name": "stdout",
     "output_type": "stream",
     "text": [
      "6\n",
      "This is never been called\n",
      "No exception happened!\n",
      "Process finished!\n"
     ]
    }
   ],
   "source": [
    "# try...(except 1..n)...else...finally...结构\n",
    "# try后代码尝试执行的代码，中间可能有错误\n",
    "# except后代码为异常发生时，分类处理的代码；可以有多个except的情况\n",
    "# else后代码为未发生异常时的代码\n",
    "# finally后代码为必然运行的代码\n",
    "\n",
    "try:\n",
    "    myList = [4, 6]\n",
    "    print(myList[1])\n",
    "    print(\"This is never been called\")\n",
    "except ZeroDivisionError as e:\n",
    "    print(\"ZeroDivisionError happened\")\n",
    "    print(e)\n",
    "except (IndexError, EOFError) as e:\n",
    "    print(\"Exception happened\")\n",
    "    print(e)\n",
    "except:\n",
    "    print(\"Unknown exception happened\")\n",
    "else:\n",
    "    print(\"No exception happened!\")\n",
    "finally:\n",
    "    print(\"Process finished!\")\n",
    "    "
   ]
  },
  {
   "cell_type": "code",
   "execution_count": 5,
   "metadata": {},
   "outputs": [],
   "source": [
    "# 抛出自定义异常\n",
    "import sys\n",
    "class MyErr(Exception):\n",
    "    def __str__(self):\n",
    "        return \"I'm a self-defined Error!\"\n",
    "def main():\n",
    "    try:\n",
    "        if len(sys.argv)==1:\n",
    "            raise MyErr()\n",
    "            raise Exception('This is the error message')   # Exception对象\n",
    "    except MyErr as e:\n",
    "        print(e)\n",
    "main()"
   ]
  },
  {
   "cell_type": "code",
   "execution_count": 19,
   "metadata": {},
   "outputs": [
    {
     "ename": "AssertionError",
     "evalue": "The status to be \"open\".",
     "output_type": "error",
     "traceback": [
      "\u001b[1;31m---------------------------------------------------------------------------\u001b[0m",
      "\u001b[1;31mAssertionError\u001b[0m                            Traceback (most recent call last)",
      "\u001b[1;32m<ipython-input-19-e63d4581c533>\u001b[0m in \u001b[0;36m<module>\u001b[1;34m\u001b[0m\n\u001b[0;32m      7\u001b[0m \u001b[1;32massert\u001b[0m \u001b[0mstatus\u001b[0m \u001b[1;33m==\u001b[0m\u001b[1;34m'open'\u001b[0m\u001b[1;33m,\u001b[0m\u001b[1;34m'The status to be \"open\".'\u001b[0m\u001b[1;33m\u001b[0m\u001b[0m\n\u001b[0;32m      8\u001b[0m \u001b[0mstatus\u001b[0m \u001b[1;33m=\u001b[0m \u001b[1;34m'other'\u001b[0m\u001b[1;33m\u001b[0m\u001b[0m\n\u001b[1;32m----> 9\u001b[1;33m \u001b[1;32massert\u001b[0m \u001b[0mstatus\u001b[0m \u001b[1;33m==\u001b[0m\u001b[1;34m'open'\u001b[0m\u001b[1;33m,\u001b[0m\u001b[1;34m'The status to be \"open\".'\u001b[0m\u001b[1;33m\u001b[0m\u001b[0m\n\u001b[0m",
      "\u001b[1;31mAssertionError\u001b[0m: The status to be \"open\"."
     ]
    }
   ],
   "source": [
    "# 断言\n",
    "\n",
    "status = 'open'\n",
    "# assert是断言。我们希望的status为open，否则会提示错误'The status to be \"open\".'\n",
    "# 断言主要应用：开发时可以快速定位错误。\n",
    "# 启动python时，带上 -o 参数，可以禁止断言。减小正常运行的开销。\n",
    "assert status =='open','The status to be \"open\".' \n",
    "status = 'other'\n",
    "assert status =='open','The status to be \"open\".' "
   ]
  },
  {
   "cell_type": "code",
   "execution_count": 20,
   "metadata": {},
   "outputs": [
    {
     "name": "stdout",
     "output_type": "stream",
     "text": [
      "ZeroDivisionError happened\n",
      "Traceback (most recent call last):\n",
      "  File \"<ipython-input-20-669b59fecf0e>\", line 4, in <module>\n",
      "    a = 10/0\n",
      "ZeroDivisionError: division by zero\n",
      "\n"
     ]
    }
   ],
   "source": [
    "# 反跟踪错误信息\n",
    "import traceback\n",
    "try:\n",
    "    a = 10/0\n",
    "except ZeroDivisionError as e:\n",
    "    print(\"ZeroDivisionError happened\")\n",
    "    \n",
    "    # 利用 traceback.format_exc() 可以获取反跟踪信息\n",
    "    # 先要导入 traceback 模块\n",
    "    print(traceback.format_exc())"
   ]
  },
  {
   "cell_type": "code",
   "execution_count": 38,
   "metadata": {},
   "outputs": [
    {
     "name": "stdout",
     "output_type": "stream",
     "text": [
      "...\n",
      "...\n"
     ]
    }
   ],
   "source": [
    "# 在开发时使用日志，便于调试。\n",
    "# 下面两行请原样复制，可以打开日志。\n",
    "import logging\n",
    "logging.basicConfig(level=logging.DEBUG,format=' %(asctime)s - %(levelname)s - %(message)s')\n",
    "\n",
    "# 如果有必要，将日志内容保存到指定文件。用来替换上面语句。\n",
    "# logging.basicConfig(filename ='mylog.txt',level=logging.DEBUG,format=' %(asctime)s - %(levelname)s - %(message)s')\n",
    "\n",
    "logging.debug('Start')\n",
    "\n",
    "print('...')\n",
    "\n",
    "logging.debug('Transction...')\n",
    "\n",
    "print('...')\n",
    "logging.info('info...')\n",
    "logging.warning('warning...')\n",
    "logging.error('error...')\n",
    "\n",
    "# 关闭日志，下面的语句只需要运行一次\n",
    "# logging.disable(logging.CRITICAL)\n",
    "logging.critical('critical...')\n",
    "logging.debug('End')"
   ]
  },
  {
   "cell_type": "code",
   "execution_count": null,
   "metadata": {},
   "outputs": [],
   "source": []
  }
 ],
 "metadata": {
  "kernelspec": {
   "display_name": "Python 3",
   "language": "python",
   "name": "python3"
  },
  "language_info": {
   "codemirror_mode": {
    "name": "ipython",
    "version": 3
   },
   "file_extension": ".py",
   "mimetype": "text/x-python",
   "name": "python",
   "nbconvert_exporter": "python",
   "pygments_lexer": "ipython3",
   "version": "3.7.0"
  }
 },
 "nbformat": 4,
 "nbformat_minor": 4
}
