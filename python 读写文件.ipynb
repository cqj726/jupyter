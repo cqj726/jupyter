{
 "cells": [
  {
   "cell_type": "code",
   "execution_count": 41,
   "metadata": {},
   "outputs": [
    {
     "name": "stdout",
     "output_type": "stream",
     "text": [
      "D:\\\n",
      "main.txt\n"
     ]
    },
    {
     "data": {
      "text/plain": [
       "'140 Byte'"
      ]
     },
     "execution_count": 41,
     "metadata": {},
     "output_type": "execute_result"
    }
   ],
   "source": [
    "import os\n",
    "\n",
    "os.chdir('D:\\\\')\n",
    "cdir = os.getcwd()\n",
    "os.listdir('D:\\\\')\n",
    "os.path.isdir(cdir)\n",
    "\n",
    "cfile = cdir+'main.txt'\n",
    "os.path.isfile(cfile)\n",
    "\n",
    "print(os.path.dirname(cfile))\n",
    "print(os.path.basename(cfile))\n",
    "str(os.path.getsize(cfile))+' Byte'"
   ]
  },
  {
   "cell_type": "code",
   "execution_count": 52,
   "metadata": {},
   "outputs": [
    {
     "data": {
      "text/plain": [
       "'http://localhost:8888/notebooks/%E8%AF%BB%E5%86%99%E6%96%87%E4%BB%B6.ipynb'"
      ]
     },
     "execution_count": 52,
     "metadata": {},
     "output_type": "execute_result"
    }
   ],
   "source": [
    "import os\n",
    "\n",
    "mfile = open('d:\\\\main.txt')\n",
    "mfile.read()\n",
    "# mfile.readlines()"
   ]
  },
  {
   "cell_type": "code",
   "execution_count": 66,
   "metadata": {},
   "outputs": [
    {
     "data": {
      "text/plain": [
       "'\\n\\tHello,Python!\\n'"
      ]
     },
     "execution_count": 66,
     "metadata": {},
     "output_type": "execute_result"
    }
   ],
   "source": [
    "import os\n",
    "mfile = open('d:\\\\main.txt','w')\n",
    "mfile.write(\"\\n\\tHello,Python!\\n\")\n",
    "mfile.close()\n",
    "\n",
    "mfile = open('d:\\\\main.txt')\n",
    "mfile.read()\n"
   ]
  },
  {
   "cell_type": "code",
   "execution_count": 70,
   "metadata": {},
   "outputs": [
    {
     "data": {
      "text/plain": [
       "'\\n\\tHello,Python!\\n\\n\\tHello,Python!\\n\\n\\tHello,Python!\\n\\n\\tHello,Python!\\n\\n\\tHello,Python!\\n'"
      ]
     },
     "execution_count": 70,
     "metadata": {},
     "output_type": "execute_result"
    }
   ],
   "source": [
    "import os\n",
    "mfile = open('d:\\\\main.txt','a')\n",
    "mfile.write(\"\\n\\tHello,Python!\\n\")\n",
    "mfile.close()\n",
    "\n",
    "mfile = open('d:\\\\main.txt')\n",
    "mfile.read()"
   ]
  },
  {
   "cell_type": "code",
   "execution_count": 90,
   "metadata": {},
   "outputs": [],
   "source": [
    "import shutil,os\n",
    "# os.makedirs('d:\\\\temp')\n",
    "os.chdir('d:\\\\temp')\n",
    "# os.makedirs('d:\\\\temp\\\\abc')\n",
    "\n",
    "filename = 'main.txt'\n",
    "shutil.copy('d:\\\\main.txt','d:\\\\temp\\\\'+filename)\n",
    "shutil.move(\"d:\\\\temp\\\\main.txt\",'d:\\\\temp\\\\abc.txt')\n",
    "\n",
    "os.chdir('d:\\\\')\n",
    "# shutil.rmtree('d:\\\\temp')"
   ]
  },
  {
   "cell_type": "code",
   "execution_count": 108,
   "metadata": {},
   "outputs": [
    {
     "data": {
      "text/plain": [
       "['temp/', 'temp/abc/', 'temp/abc.txt']"
      ]
     },
     "execution_count": 108,
     "metadata": {},
     "output_type": "execute_result"
    }
   ],
   "source": [
    "import zipfile,os\n",
    "os.chdir('d:\\\\')\n",
    "fzip = zipfile.ZipFile(\"temp.zip\")\n",
    "fzip.namelist()\n",
    "\n",
    "# finfo = fzip.getinfo(\"d://main.txt\")"
   ]
  },
  {
   "cell_type": "code",
   "execution_count": 117,
   "metadata": {},
   "outputs": [],
   "source": [
    "import zipfile,os\n",
    "os.chdir('d:\\\\')\n",
    "fzip = zipfile.ZipFile(\"temp.zip\")\n",
    "fzip.extractall()\n",
    "fzip.close()"
   ]
  }
 ],
 "metadata": {
  "kernelspec": {
   "display_name": "Python 3",
   "language": "python",
   "name": "python3"
  },
  "language_info": {
   "codemirror_mode": {
    "name": "ipython",
    "version": 3
   },
   "file_extension": ".py",
   "mimetype": "text/x-python",
   "name": "python",
   "nbconvert_exporter": "python",
   "pygments_lexer": "ipython3",
   "version": "3.7.0"
  }
 },
 "nbformat": 4,
 "nbformat_minor": 4
}
