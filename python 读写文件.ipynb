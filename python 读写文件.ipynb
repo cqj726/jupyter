{
 "cells": [
  {
   "cell_type": "code",
   "execution_count": 4,
   "metadata": {},
   "outputs": [
    {
     "name": "stdout",
     "output_type": "stream",
     "text": [
      "d:\\\n",
      "main.txt\n"
     ]
    },
    {
     "data": {
      "text/plain": [
       "'107 Byte'"
      ]
     },
     "execution_count": 4,
     "metadata": {},
     "output_type": "execute_result"
    }
   ],
   "source": [
    "import os\n",
    "\n",
    "os.chdir('D:\\\\')    #切换当前目录\n",
    "cdir = os.getcwd()  #获取当前目录\n",
    "os.listdir('D:\\\\')  #参看D:\\的文件\n",
    "os.path.isdir(cdir) #测试路径是否存在\n",
    "\n",
    "cfile = cdir+'main.txt' \n",
    "os.path.isfile(cfile)  #测试文件是否存在\n",
    "\n",
    "print(os.path.dirname(cfile))\n",
    "print(os.path.basename(cfile))\n",
    "str(os.path.getsize(cfile))+' Byte'  #获取文件的大小"
   ]
  },
  {
   "cell_type": "code",
   "execution_count": 52,
   "metadata": {},
   "outputs": [
    {
     "data": {
      "text/plain": [
       "'http://localhost:8888/notebooks/%E8%AF%BB%E5%86%99%E6%96%87%E4%BB%B6.ipynb'"
      ]
     },
     "execution_count": 52,
     "metadata": {},
     "output_type": "execute_result"
    }
   ],
   "source": [
    "import os\n",
    "\n",
    "mfile = open('d:\\\\main.txt')    #默认打开文件为读打开\n",
    "mfile.read()\n",
    "# mfile.readlines()"
   ]
  },
  {
   "cell_type": "code",
   "execution_count": 66,
   "metadata": {},
   "outputs": [
    {
     "data": {
      "text/plain": [
       "'\\n\\tHello,Python!\\n'"
      ]
     },
     "execution_count": 66,
     "metadata": {},
     "output_type": "execute_result"
    }
   ],
   "source": [
    "import os\n",
    "mfile = open('d:\\\\main.txt','w')     #打开文件为写打开\n",
    "mfile.write(\"\\n\\tHello,Python!\\n\")   #写入新的内容到文件\n",
    "mfile.close()\n",
    "\n",
    "mfile = open('d:\\\\main.txt')\n",
    "mfile.read()\n"
   ]
  },
  {
   "cell_type": "code",
   "execution_count": 70,
   "metadata": {},
   "outputs": [
    {
     "data": {
      "text/plain": [
       "'\\n\\tHello,Python!\\n\\n\\tHello,Python!\\n\\n\\tHello,Python!\\n\\n\\tHello,Python!\\n\\n\\tHello,Python!\\n'"
      ]
     },
     "execution_count": 70,
     "metadata": {},
     "output_type": "execute_result"
    }
   ],
   "source": [
    "import os\n",
    "mfile = open('d:\\\\main.txt','a')    #打开文件为追加打开\n",
    "mfile.write(\"\\n\\tHello,Python!\\n\")\n",
    "mfile.close()\n",
    "\n",
    "mfile = open('d:\\\\main.txt')\n",
    "mfile.read()"
   ]
  },
  {
   "cell_type": "code",
   "execution_count": 90,
   "metadata": {},
   "outputs": [],
   "source": [
    "import shutil,os\n",
    "# os.makedirs('d:\\\\temp')\n",
    "os.chdir('d:\\\\temp')\n",
    "# os.makedirs('d:\\\\temp\\\\abc')\n",
    "\n",
    "filename = 'main.txt'\n",
    "shutil.copy('d:\\\\main.txt','d:\\\\temp\\\\'+filename)     # 复制文件\n",
    "shutil.move(\"d:\\\\temp\\\\main.txt\",'d:\\\\temp\\\\abc.txt') #移动文件\n",
    "\n",
    "os.chdir('d:\\\\')\n",
    "# shutil.rmtree('d:\\\\temp')"
   ]
  },
  {
   "cell_type": "code",
   "execution_count": 27,
   "metadata": {},
   "outputs": [
    {
     "name": "stdout",
     "output_type": "stream",
     "text": [
      "['temp/', 'temp/abc/', 'temp/abc.txt']\n"
     ]
    }
   ],
   "source": [
    "import zipfile,os\n",
    "os.chdir('d:\\\\')\n",
    "fzip = zipfile.ZipFile(\"temp.zip\")    # 打开zip文件\n",
    "print(fzip.namelist())                # 获取其中的文件名\n",
    "fzip.extractall()    # 解压zip文件\n",
    "\n",
    "fzip.close()"
   ]
  },
  {
   "cell_type": "code",
   "execution_count": 16,
   "metadata": {},
   "outputs": [],
   "source": [
    "import zipfile,os\n",
    "os.chdir('d:\\\\')\n",
    "fzip = zipfile.ZipFile(\"temp.zip\")\n",
    "fzip.extractall()    # 解压zip文件\n",
    "fzip.close()"
   ]
  },
  {
   "cell_type": "code",
   "execution_count": 23,
   "metadata": {},
   "outputs": [],
   "source": [
    "import zipfile,os\n",
    "os.chdir('d:\\\\')\n",
    "fzip = zipfile.ZipFile(\"temp2.zip\",'w')    #把文件写入zip文件\n",
    "fzip.write('main.txt',compress_type=zipfile.ZIP_DEFLATED)\n",
    "fzip.close()\n",
    "\n",
    "fzip = zipfile.ZipFile(\"temp2.zip\",'a')    #往zip文件中添加文件\n",
    "fzip.write('d:\\\\temp\\\\abc.txt')\n",
    "fzip.close()"
   ]
  },
  {
   "cell_type": "code",
   "execution_count": 1,
   "metadata": {},
   "outputs": [
    {
     "name": "stdout",
     "output_type": "stream",
     "text": [
      "['a', 'b', 'c']\n"
     ]
    }
   ],
   "source": [
    "# 打开二进制文件\n",
    "import shelve\n",
    "sfile = shelve.open('mydata')\n",
    "cats = ['a','b','c']\n",
    "sfile['cats'] = cats\n"
   ]
  },
  {
   "cell_type": "code",
   "execution_count": 1,
   "metadata": {},
   "outputs": [
    {
     "name": "stdout",
     "output_type": "stream",
     "text": [
      "['a', 'b', 'c']\n"
     ]
    }
   ],
   "source": [
    "# 打开二进制文件\n",
    "import shelve\n",
    "sfile = shelve.open('mydata')\n",
    "\n",
    "print(sfile['cats'])\n",
    "list(sfile.keys())\n",
    "list(sfile.values())\n",
    "\n",
    "sfile.close() "
   ]
  },
  {
   "cell_type": "code",
   "execution_count": null,
   "metadata": {},
   "outputs": [],
   "source": []
  }
 ],
 "metadata": {
  "kernelspec": {
   "display_name": "Python 3",
   "language": "python",
   "name": "python3"
  },
  "language_info": {
   "codemirror_mode": {
    "name": "ipython",
    "version": 3
   },
   "file_extension": ".py",
   "mimetype": "text/x-python",
   "name": "python",
   "nbconvert_exporter": "python",
   "pygments_lexer": "ipython3",
   "version": "3.8.1"
  }
 },
 "nbformat": 4,
 "nbformat_minor": 4
}
