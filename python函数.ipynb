{
 "cells": [
  {
   "cell_type": "code",
   "execution_count": 19,
   "metadata": {},
   "outputs": [],
   "source": [
    "def hello():\n",
    "    print('Hello,Python!')\n",
    "    "
   ]
  },
  {
   "cell_type": "code",
   "execution_count": 20,
   "metadata": {
    "scrolled": true
   },
   "outputs": [
    {
     "name": "stdout",
     "output_type": "stream",
     "text": [
      "Hello,Python!\n"
     ]
    }
   ],
   "source": [
    "hello()"
   ]
  },
  {
   "cell_type": "code",
   "execution_count": 2,
   "metadata": {},
   "outputs": [
    {
     "name": "stdout",
     "output_type": "stream",
     "text": [
      "局部变量x= 30\n",
      "全局变量x= 10\n"
     ]
    }
   ],
   "source": [
    "global x\n",
    "x= 10\n",
    "def fun():\n",
    "    x =30\n",
    "    print('局部变量x=',x)\n",
    "\n",
    "fun()\n",
    "print('全局变量x=',x)"
   ]
  },
  {
   "cell_type": "code",
   "execution_count": 17,
   "metadata": {},
   "outputs": [
    {
     "name": "stdout",
     "output_type": "stream",
     "text": [
      "9 5.0\n"
     ]
    }
   ],
   "source": [
    "import math\n",
    "x = max([3,8,5,9,1])\n",
    "y = math.sqrt(25)\n",
    "print(x,y)"
   ]
  },
  {
   "cell_type": "code",
   "execution_count": 1,
   "metadata": {},
   "outputs": [
    {
     "name": "stdout",
     "output_type": "stream",
     "text": [
      "24\n"
     ]
    }
   ],
   "source": [
    "f = lambda x,y,z:x*y*z\n",
    "print(f(2,3,4))"
   ]
  },
  {
   "cell_type": "code",
   "execution_count": 7,
   "metadata": {},
   "outputs": [
    {
     "name": "stdout",
     "output_type": "stream",
     "text": [
      "input name:re\n",
      "input age:23\n",
      "re\n",
      "23\n",
      "销毁对象 re 23\n"
     ]
    }
   ],
   "source": [
    "# 创建类\n",
    "class Person:\n",
    "    # 定义构造方法\n",
    "    def __init__(self,Name,Age):\n",
    "        self.name = Name\n",
    "        self.age = Age\n",
    "    # 定义main方法    \n",
    "    def main(self):\n",
    "        print(self.name)\n",
    "        print(self.age)\n",
    "    # 定义析构方法\n",
    "    def __del__(self):\n",
    "        print('销毁对象',self.name,self.age)\n",
    "name = input('input name:')\n",
    "age = input('input age:')\n",
    "# 创建类的实例、对象\n",
    "p = Person(name,age)\n",
    "p.main() #调用类体中的方法\n",
    "del p"
   ]
  },
  {
   "cell_type": "code",
   "execution_count": 15,
   "metadata": {},
   "outputs": [
    {
     "name": "stdout",
     "output_type": "stream",
     "text": [
      "input name:er\n",
      "input age:23\n",
      "input score:77\n",
      "er\n",
      "23\n",
      "成绩 77\n"
     ]
    }
   ],
   "source": [
    "# 类的继承，支持多继承\n",
    "# 创建类\n",
    "class Person:\n",
    "    def __init__(self,Name,Age):    # 定义构造方法\n",
    "        self.name = Name\n",
    "        self.age = Age\n",
    "    def main(self):    # 定义main方法    \n",
    "        print(self.name)\n",
    "        print(self.age)\n",
    "# 创建子类\n",
    "class Sunny(Person):\n",
    "    def __init__(self,name,age,score):\n",
    "#         super(Sunny,self).__init__(name,age)    # 调用父类的构造方法\n",
    "        Person.__init__(self,name,age)    # 调用父类的构造方法，super()也可以实现\n",
    "        self.score = score     # 定义子类的属性\n",
    "    def prn(self):\n",
    "#         Person.main(self)      # 调用父类的main方法，也可以换成后面两行\n",
    "        print(self.name)      # 调用父类的定义\n",
    "        print(self.age)       # 调用父类的定义\n",
    "        print('成绩',self.score)\n",
    "name = input('input name:')\n",
    "age = input('input age:')\n",
    "score = input('input score:')\n",
    "# 创建类的实例、对象\n",
    "s = Sunny(name,age,score)\n",
    "s.prn() #调用子类中的方法"
   ]
  },
  {
   "cell_type": "code",
   "execution_count": 28,
   "metadata": {},
   "outputs": [
    {
     "name": "stdout",
     "output_type": "stream",
     "text": [
      "汤姆的年龄是:40\n",
      "蓝猫的年龄是:10\n",
      "汤姆-蓝猫的年龄是:30\n",
      "汤姆+蓝猫的年龄是:50\n"
     ]
    }
   ],
   "source": [
    "class Cat:\n",
    "    def __init__(self, new_name, new_age):\n",
    "        self.name = new_name\n",
    "        self.age = new_age\n",
    "    def __str__(self):\n",
    "        return \"%s的年龄是:%d\"%(self.name, self.age)\n",
    "    def __sub__(self,other):\n",
    "        return Cat(self.name + '-' + other.name,self.age - other.age)\n",
    "    def __add__(self,other):\n",
    "        return Cat(self.name + '+' + other.name,self.age + other.age)\n",
    "\n",
    "tom = Cat(\"汤姆\", 40)\n",
    "lanmao = Cat(\"蓝猫\", 10)\n",
    "print(tom)\n",
    "print(lanmao)\n",
    "print(tom - lanmao)\n",
    "print(tom + lanmao)"
   ]
  },
  {
   "cell_type": "code",
   "execution_count": null,
   "metadata": {},
   "outputs": [],
   "source": []
  }
 ],
 "metadata": {
  "kernelspec": {
   "display_name": "Python 3",
   "language": "python",
   "name": "python3"
  },
  "language_info": {
   "codemirror_mode": {
    "name": "ipython",
    "version": 3
   },
   "file_extension": ".py",
   "mimetype": "text/x-python",
   "name": "python",
   "nbconvert_exporter": "python",
   "pygments_lexer": "ipython3",
   "version": "3.8.1"
  }
 },
 "nbformat": 4,
 "nbformat_minor": 4
}
